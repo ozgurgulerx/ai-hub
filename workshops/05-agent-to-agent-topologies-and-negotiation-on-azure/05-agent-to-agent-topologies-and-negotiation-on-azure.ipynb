{
  "cells": [
    {
      "cell_type": "markdown",
      "metadata": {},
      "source": [
        "# Agent-to-Agent (A2A) Topologies & Negotiation on Azure\n",
        "\n",
        "Start your workshop content here."
      ]
    }
  ],
  "metadata": {
    "kernelspec": {
      "display_name": "Python 3",
      "language": "python",
      "name": "python3"
    },
    "language_info": {
      "name": "python",
      "version": "3.x"
    }
  },
  "nbformat": 4,
  "nbformat_minor": 5
}