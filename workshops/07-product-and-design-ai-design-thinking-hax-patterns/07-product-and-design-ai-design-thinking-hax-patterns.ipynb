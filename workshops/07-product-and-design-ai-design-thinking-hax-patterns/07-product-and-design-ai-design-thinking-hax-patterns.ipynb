{
  "cells": [
    {
      "cell_type": "markdown",
      "metadata": {},
      "source": [
        "# Product & Design: AI Design Thinking + HAX Patterns\n",
        "\n",
        "Start your workshop content here."
      ]
    }
  ],
  "metadata": {
    "kernelspec": {
      "display_name": "Python 3",
      "language": "python",
      "name": "python3"
    },
    "language_info": {
      "name": "python",
      "version": "3.x"
    }
  },
  "nbformat": 4,
  "nbformat_minor": 5
}