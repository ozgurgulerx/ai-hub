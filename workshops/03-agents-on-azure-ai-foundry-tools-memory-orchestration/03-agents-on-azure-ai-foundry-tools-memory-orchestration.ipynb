{
  "cells": [
    {
      "cell_type": "markdown",
      "metadata": {},
      "source": [
        "# Agents on Azure AI Foundry: Tools, Memory, Orchestration\n",
        "\n",
        "Start your workshop content here."
      ]
    }
  ],
  "metadata": {
    "kernelspec": {
      "display_name": "Python 3",
      "language": "python",
      "name": "python3"
    },
    "language_info": {
      "name": "python",
      "version": "3.x"
    }
  },
  "nbformat": 4,
  "nbformat_minor": 5
}